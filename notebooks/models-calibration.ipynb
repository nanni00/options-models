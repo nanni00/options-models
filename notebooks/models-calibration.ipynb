{
 "cells": [
  {
   "cell_type": "code",
   "execution_count": 1,
   "metadata": {},
   "outputs": [],
   "source": [
    "import os\n",
    "import time\n",
    "from datetime import datetime as dt\n",
    "\n",
    "import numpy as np\n",
    "import pandas as pd\n",
    "import matplotlib.pyplot as plt\n",
    "\n",
    "import ivolatility as ivol\n",
    "\n",
    "from scipy.integrate import quad\n",
    "from scipy.optimize import minimize\n",
    "from datetime import datetime as dt\n",
    "\n",
    "from nelson_siegel_svensson.calibrate import calibrate_nss_ols"
   ]
  },
  {
   "cell_type": "markdown",
   "metadata": {},
   "source": [
    "# Models definitions"
   ]
  },
  {
   "cell_type": "markdown",
   "metadata": {},
   "source": [
    "## Heston Model"
   ]
  },
  {
   "cell_type": "code",
   "execution_count": 62,
   "metadata": {},
   "outputs": [],
   "source": [
    "def heston_charfunc(phi, S0, v0, kappa, theta, sigma, rho, lambd, tau, r):\n",
    "    \"\"\"\n",
    "        S0: initial asset price\n",
    "        v0: initial variance\n",
    "        kappa: mean reversion rate\n",
    "        theta: long-term average volatility\n",
    "        sigma: volatility of volatility\n",
    "        rho: correlation between returns and variances under risk-neutral dynamics\n",
    "        lambd: ?\n",
    "        tau: ?\n",
    "        r: ?\n",
    "    \"\"\"\n",
    "    # constants\n",
    "    a = kappa*theta\n",
    "    b = kappa+lambd\n",
    "\n",
    "    # common terms w.r.t phi\n",
    "    rspi = rho*sigma*phi*1j\n",
    "\n",
    "    # define d parameter given phi and b\n",
    "    d = np.sqrt( (rho*sigma*phi*1j - b)**2 + (phi*1j+phi**2)*sigma**2 )\n",
    "\n",
    "    # define g parameter given phi, b and d\n",
    "    g = (b-rspi+d)/(b-rspi-d)\n",
    "\n",
    "    # calculate characteristic function by components\n",
    "    exp1 = np.exp(r*phi*1j*tau)\n",
    "    term2 = S0**(phi*1j) * ( (1-g*np.exp(d*tau))/(1-g) )**(-2*a/sigma**2)\n",
    "    exp2 = np.exp(a*tau*(b-rspi+d)/sigma**2 + v0*(b-rspi+d)*( (1-np.exp(d*tau))/(1-g*np.exp(d*tau)) )/sigma**2)\n",
    "\n",
    "    return exp1 * term2 * exp2\n",
    "\n",
    "\n",
    "def integrand(phi, S0, v0, kappa, theta, sigma, rho, lambd, tau, r):\n",
    "    args = (S0, v0, kappa, theta, sigma, rho, lambd, tau, r)\n",
    "    numerator = np.exp(r * tau) * heston_charfunc(phi - 1j, *args) - K * heston_charfunc(phi, *args)\n",
    "    denominator = 1j * phi * K ** (1j * phi) \n",
    "    return numerator/denominator\n",
    "\n",
    "\n",
    "def heston_price_rec(S0, K, v0, kappa, theta, sigma, rho, lambd, tau, r):\n",
    "    args = (S0, v0, kappa, theta, sigma, rho, lambd, tau, r)\n",
    "\n",
    "    P, umax, N = 0, 100, 10000\n",
    "    dphi = umax / N #dphi is width\n",
    "\n",
    "    for i in range(1, N):\n",
    "        # rectangular integration\n",
    "        phi = dphi * (2*i + 1)/2 # midpoint to calculate height\n",
    "        numerator = np.exp(r*tau) * heston_charfunc(phi-1j,*args) - K * heston_charfunc(phi,*args)\n",
    "        denominator = 1j*phi*K**(1j*phi)\n",
    "\n",
    "        P += dphi * numerator/denominator\n",
    "\n",
    "    return np.real((S0 - K*np.exp(-r*tau))/2 + P/np.pi)\n",
    "\n",
    "\n",
    "def heston_price(S0, K, v0, kappa, theta, sigma, rho, lambd, tau, r):\n",
    "    args = (S0, v0, kappa, theta, sigma, rho, lambd, tau, r)\n",
    "\n",
    "    real_integral, err = np.real( quad(integrand, 0, 100, args=args) )\n",
    "\n",
    "    return (S0 - K*np.exp(-r*tau))/2 + real_integral/np.pi"
   ]
  },
  {
   "cell_type": "markdown",
   "metadata": {},
   "source": [
    "## Merton Jump Model"
   ]
  },
  {
   "cell_type": "code",
   "execution_count": 59,
   "metadata": {},
   "outputs": [],
   "source": [
    "# --- Part 1: Merton Characteristic Function ---\n",
    "def merton_charfunc(phi, S0, sigma, lambd, mu_j, sigma_j, tau, r):\n",
    "    \"\"\"\n",
    "    Characteristic function for the Merton Jump Diffusion Model.\n",
    "    \"\"\"\n",
    "    drift = r - 0.5 * sigma**2 - lambd * (np.exp(mu_j + 0.5 * sigma_j**2) - 1)\n",
    "    exp1 = np.exp(1j * phi * (np.log(S0) + drift * tau))\n",
    "    diffusion = -0.5 * sigma**2 * phi**2 * tau\n",
    "    jumps = lambd * tau * (np.exp(1j * phi * mu_j - 0.5 * sigma_j**2 * phi**2) - 1)\n",
    "    return exp1 * np.exp(diffusion + jumps)\n",
    "\n",
    "# --- Part 2: Integrand for Numerical Integration ---\n",
    "def integrand_merton(phi, S0, sigma, lambd, mu_j, sigma_j, tau, r, K):\n",
    "    \"\"\"\n",
    "    Integrand for numerical integration in the Merton Jump Diffusion Model.\n",
    "    \"\"\"\n",
    "    args = (S0, sigma, lambd, mu_j, sigma_j, tau, r)\n",
    "    numerator = np.exp(r * tau) * merton_charfunc(phi - 1j, *args) - K * merton_charfunc(phi, *args)\n",
    "    denominator = 1j * phi * K**(1j * phi)\n",
    "    return numerator / denominator\n",
    "\n",
    "# --- Part 3: Rectangular Numerical Integration ---\n",
    "def merton_price_rec(S0, K, sigma, lambd, mu_j, sigma_j, tau, r):\n",
    "    \"\"\"\n",
    "    Option price using rectangular integration for the Merton Jump Diffusion Model.\n",
    "    \"\"\"\n",
    "    args = (S0, sigma, lambd, mu_j, sigma_j, tau, r)\n",
    "    P, umax, N = 0, 100, 10000\n",
    "    dphi = umax / N  # dphi is width\n",
    "\n",
    "    for i in range(1, N):\n",
    "        phi = dphi * (2 * i + 1) / 2  # midpoint to calculate height\n",
    "        numerator = np.exp(r * tau) * merton_charfunc(phi - 1j, *args) - K * merton_charfunc(phi, *args)\n",
    "        denominator = 1j * phi * K**(1j * phi)\n",
    "        P += dphi * numerator / denominator\n",
    "\n",
    "    return np.real((S0 - K * np.exp(-r * tau)) / 2 + P / np.pi)\n",
    "\n",
    "# --- Part 4: Option Price Using Scipy Quad Integration ---\n",
    "def merton_price(S0, K, sigma, lambd, mu_j, sigma_j, tau, r):\n",
    "    \"\"\"\n",
    "    Option price using scipy quad integration for the Merton Jump Diffusion Model.\n",
    "    \"\"\"\n",
    "    real_integral, err = np.real(quad(integrand_merton, 0, 100, args=(S0, sigma, lambd, mu_j, sigma_j, tau, r, K)))\n",
    "    return (S0 - K * np.exp(-r * tau)) / 2 + real_integral / np.pi\n"
   ]
  },
  {
   "cell_type": "markdown",
   "metadata": {},
   "source": [
    "## Kou Model"
   ]
  },
  {
   "cell_type": "code",
   "execution_count": 60,
   "metadata": {},
   "outputs": [],
   "source": [
    "# --- Step 1: Kou Characteristic Function ---\n",
    "def kou_charfunc(phi, S0, sigma, lambd, p, eta1, eta2, tau, r):\n",
    "    \"\"\"\n",
    "    Characteristic function for the Kou Double Exponential Jump Model.\n",
    "    \"\"\"\n",
    "    drift = r - 0.5 * sigma**2 - lambd * (p * eta1 / (eta1 + 1) + (1 - p) * eta2 / (eta2 + 1) - 1)\n",
    "    exp1 = np.exp(1j * phi * (np.log(S0) + drift * tau))\n",
    "    diffusion = -0.5 * sigma**2 * phi**2 * tau\n",
    "    jumps = lambd * tau * (\n",
    "        p * eta1 / (eta1 - 1j * phi) + (1 - p) * eta2 / (eta2 + 1j * phi) - 1\n",
    "    )\n",
    "    return exp1 * np.exp(diffusion + jumps)\n",
    "\n",
    "# --- Step 2: Integrand for Numerical Integration ---\n",
    "def integrand_kou(phi, S0, sigma, lambd, p, eta1, eta2, tau, r, K):\n",
    "    \"\"\"\n",
    "    Integrand for numerical integration in the Kou model.\n",
    "    \"\"\"\n",
    "    args = (S0, sigma, lambd, p, eta1, eta2, tau, r)\n",
    "    numerator = np.exp(r * tau) * kou_charfunc(phi - 1j, *args) - K * kou_charfunc(phi, *args)\n",
    "    denominator = 1j * phi * K**(1j * phi)\n",
    "    return numerator / denominator\n",
    "\n",
    "# --- Step 3: Rectangular Numerical Integration ---\n",
    "def kou_price_rec(S0, K, sigma, lambd, p, eta1, eta2, tau, r):\n",
    "    \"\"\"\n",
    "    Option price using rectangular integration for the Kou model.\n",
    "    \"\"\"\n",
    "    args = (S0, sigma, lambd, p, eta1, eta2, tau, r)\n",
    "    P, umax, N = 0, 100, 10000\n",
    "    dphi = umax / N  # dphi is width\n",
    "\n",
    "    for i in range(1, N):\n",
    "        phi = dphi * (2 * i + 1) / 2  # midpoint to calculate height\n",
    "        numerator = np.exp(r * tau) * kou_charfunc(phi - 1j, *args) - K * kou_charfunc(phi, *args)\n",
    "        denominator = 1j * phi * K**(1j * phi)\n",
    "        P += dphi * numerator / denominator\n",
    "\n",
    "    return np.real((S0 - K * np.exp(-r * tau)) / 2 + P / np.pi)\n",
    "\n",
    "# --- Step 4: Option Price Using Scipy Quad Integration ---\n",
    "def kou_price(S0, K, sigma, lambd, p, eta1, eta2, tau, r):\n",
    "    \"\"\"\n",
    "    Option price using scipy quad integration for the Kou model.\n",
    "    \"\"\"\n",
    "    real_integral, err = np.real(quad(integrand_kou, 0, 100, args=(S0, sigma, lambd, p, eta1, eta2, tau, r, K)))\n",
    "    return (S0 - K * np.exp(-r * tau)) / 2 + real_integral / np.pi"
   ]
  },
  {
   "cell_type": "markdown",
   "metadata": {},
   "source": [
    "## Variance Gamma Model"
   ]
  },
  {
   "cell_type": "code",
   "execution_count": 61,
   "metadata": {},
   "outputs": [],
   "source": [
    "def vg_charfunc(phi, S0, theta, sigma, nu, tau, r):\n",
    "    \"\"\"\n",
    "    Variance Gamma characteristic function of ln(S_tau).\n",
    "    \n",
    "    ----------\n",
    "    Parameters\n",
    "    phi   : float or ndarray\n",
    "        Frequency argument of the characteristic function.\n",
    "    S0    : float\n",
    "        Spot price at t=0.\n",
    "    theta : float\n",
    "        'Drift' parameter of the VG subordinator (sometimes denoted as θ).\n",
    "    sigma : float\n",
    "        'Vol' parameter of the VG subordinator.\n",
    "    nu    : float\n",
    "        'Gamma' parameter (sometimes 1/kappa in other notations).\n",
    "    tau   : float\n",
    "        Time to maturity (T - 0).\n",
    "    r     : float\n",
    "        Risk-free interest rate.\n",
    "    -------\n",
    "    Notes\n",
    "    The key difference from Heston is the explicit \"martingale adjustment\" ω:\n",
    "        ω = - (1/nu) * ln(1 - theta*nu - 0.5*sigma^2 * nu)\n",
    "    so that discounted S_t is a martingale under the risk-neutral measure.\n",
    "    -----\n",
    "    \"\"\"\n",
    "    # Martingale adjustment: ensure E[e^{-r tau} * S_tau] = S_0\n",
    "    omega = -(1.0 / nu) * np.log(1.0 - theta*nu - 0.5*sigma**2 * nu)\n",
    "    \n",
    "    # VG characteristic function for ln(S_tau):\n",
    "    #   exp{ i φ [ ln(S0) + (r + ω)*τ ] } * (1 - i θ ν φ + 0.5 σ^2 ν φ^2)^(-τ/ν)\n",
    "    return np.exp(\n",
    "        1j * phi * (np.log(S0) + (r + omega) * tau)\n",
    "    ) * (\n",
    "        (1.0 - 1j * theta * nu * phi + 0.5 * (sigma ** 2) * nu * (phi ** 2)) ** (-tau / nu)\n",
    "    )\n",
    "\n",
    "\n",
    "def integrand_vg(phi, S0, K, theta, sigma, nu, tau, r):\n",
    "    \"\"\"\n",
    "    Parameters\n",
    "    phi   : float\n",
    "        Integration variable (Fourier frequency).\n",
    "    S0, K : float\n",
    "        Spot (S0) and strike (K).\n",
    "    theta, sigma, nu, tau, r : float\n",
    "        VG parameters and maturity/rate.\n",
    "    \"\"\"\n",
    "    numerator = (\n",
    "        np.exp(1j * phi * r * tau) * vg_charfunc(phi - 1j, S0, theta, sigma, nu, tau, r)\n",
    "        - K * vg_charfunc(phi, S0, theta, sigma, nu, tau, r)\n",
    "    )\n",
    "    denominator = 1j * phi * (1j * phi + 1.0)\n",
    "    \n",
    "    return numerator / denominator\n",
    "\n",
    "\n",
    "def vg_price_rec(S0, K, theta, sigma, nu, tau, r):\n",
    "    \"\"\"\n",
    "    Parameters\n",
    "    S0, K : float\n",
    "        Spot and strike.\n",
    "    theta, sigma, nu : float\n",
    "        VG parameters.\n",
    "    tau   : float\n",
    "        Time to maturity.\n",
    "    r     : float\n",
    "        Risk-free interest rate.\n",
    "    \"\"\"\n",
    "   \n",
    "    phi_max = 100.0\n",
    "    N = 10000\n",
    "    dphi = phi_max / N\n",
    "    \n",
    "    P = 0.0\n",
    "    for i in range(1, N):\n",
    "        # midpoint in each subinterval (rectangular rule)\n",
    "        phi = dphi * (2 * i - 1) / 2.0\n",
    "        P += dphi * integrand_vg(phi, S0, K, theta, sigma, nu, tau, r)\n",
    "    \n",
    "    return np.real( (S0 - K * np.exp(-r * tau)) / 2.0 + P / np.pi )"
   ]
  },
  {
   "cell_type": "markdown",
   "metadata": {},
   "source": [
    "# Set up and Get Data"
   ]
  },
  {
   "cell_type": "code",
   "execution_count": 6,
   "metadata": {},
   "outputs": [],
   "source": [
    "username = 'PutYourIVolatilityUSernameHere'\n",
    "password = 'PutYourIVolatilityPasswordHere'"
   ]
  },
  {
   "cell_type": "code",
   "execution_count": 7,
   "metadata": {},
   "outputs": [],
   "source": [
    "# loginto the IVol account\n",
    "ivol.setLoginParams(username=username, password=password)"
   ]
  },
  {
   "cell_type": "code",
   "execution_count": 8,
   "metadata": {},
   "outputs": [],
   "source": [
    "# Define the parameters for the options\n",
    "# If the relative data is already present in the data folder, load it from there instead of querying the IVol API\n",
    "symbol =            'UCG'\n",
    "tradeDate =         '2024-10-04'\n",
    "last_trade_date =   '2024-10-09'\n",
    "region =            'EUROPE'\n",
    "dteFrom =           10\n",
    "dteTo =             1000\n",
    "cp =                'C'\n",
    "deltaFrom =         0\n",
    "deltaTo =           1"
   ]
  },
  {
   "cell_type": "code",
   "execution_count": null,
   "metadata": {},
   "outputs": [],
   "source": [
    "data_path = f'../data/{symbol}_{region}_{tradeDate}_dteFrom{dteFrom}-To{dteTo}_cp{cp}_deltaFrom{deltaFrom}-To{deltaTo}.csv'\n",
    "data_path"
   ]
  },
  {
   "cell_type": "code",
   "execution_count": null,
   "metadata": {},
   "outputs": [],
   "source": [
    "if not os.path.exists(data_path):\n",
    "    getMarketData = ivol.setMethod('/equities/eod/stock-opts-by-param')\n",
    "    marketData = getMarketData(\n",
    "        symbol=symbol, \n",
    "        tradeDate=tradeDate, \n",
    "        region=region,\n",
    "        cp='C', \n",
    "        dteFrom=dteFrom, dteTo=dteTo, \n",
    "        deltaFrom=deltaFrom, deltaTo=deltaTo\n",
    "    )\n",
    "    marketData.to_csv(data_path)\n",
    "else:\n",
    "    marketData = pd.read_csv(data_path)\n",
    "marketData"
   ]
  },
  {
   "cell_type": "code",
   "execution_count": null,
   "metadata": {},
   "outputs": [],
   "source": [
    "marketData.columns"
   ]
  },
  {
   "cell_type": "markdown",
   "metadata": {},
   "source": [
    "## Compute strikes and maturities"
   ]
  },
  {
   "cell_type": "code",
   "execution_count": 12,
   "metadata": {},
   "outputs": [],
   "source": [
    "def calc_maturity(date):\n",
    "    #invece che today mettere a data desiderata vecchia, per non avere maturities negative\n",
    "    return ((dt.strptime(date, '%Y-%m-%d %H:%M:%S.%f') - dt.today()).days / 365.25)"
   ]
  },
  {
   "cell_type": "code",
   "execution_count": 13,
   "metadata": {},
   "outputs": [],
   "source": [
    "all_strikes = [date_group['price_strike'].tolist() for date, date_group in marketData.groupby('expiration_date')]\n",
    "common_strikes = sorted(set.intersection(*map(set, all_strikes)))"
   ]
  },
  {
   "cell_type": "code",
   "execution_count": null,
   "metadata": {},
   "outputs": [],
   "source": [
    "num_exp_days = marketData['expiration_date'].unique().shape[0]\n",
    "print(f\"Number of expiration days: {num_exp_days} - number of common strikes: {len(common_strikes)}\")"
   ]
  },
  {
   "cell_type": "code",
   "execution_count": null,
   "metadata": {},
   "outputs": [],
   "source": [
    "maturities = []\n",
    "all_prices = []\n",
    "\n",
    "for date, date_group in marketData.groupby('expiration_date'):\n",
    "    maturities.append(calc_maturity(date))\n",
    "    # prices = date_group[date_group['price_strike'].isin(common_strikes)]['price'].tolist()\n",
    "    prices = [date_group['price'].tolist()[i] for i,x in enumerate(date_group['price_strike'].tolist()) if x in common_strikes][:len(common_strikes)]\n",
    "    all_prices.append(prices)\n",
    "\n",
    "price_arr = np.array(all_prices)\n",
    "price_arr.shape"
   ]
  },
  {
   "cell_type": "markdown",
   "metadata": {},
   "source": [
    "## Compute volatility surface"
   ]
  },
  {
   "cell_type": "code",
   "execution_count": null,
   "metadata": {},
   "outputs": [],
   "source": [
    "vol_surface = pd.DataFrame(price_arr, index=maturities, columns=common_strikes)\n",
    "vol_surface"
   ]
  },
  {
   "cell_type": "code",
   "execution_count": null,
   "metadata": {},
   "outputs": [],
   "source": [
    "vol_surface_long = vol_surface.melt(ignore_index=False).reset_index()\n",
    "vol_surface_long.columns = ['maturity', 'strike', 'price']\n",
    "vol_surface_long"
   ]
  },
  {
   "cell_type": "code",
   "execution_count": 18,
   "metadata": {},
   "outputs": [],
   "source": [
    "# Put there the correct values\n",
    "yield_maturities = np.array([1/12, 2/12, 3/12, 4/12, 6/12, 1, 2, 3, 5, 7, 10, 20, 30])\n",
    "yeilds = np.array([4.93, 4.84, 4.75, 4.65, 4.46, 4.24, 3.99, 3.89, 3.91, 3.97, 4.06, 4.41, 4.34]).astype(float) / 100"
   ]
  },
  {
   "cell_type": "code",
   "execution_count": null,
   "metadata": {},
   "outputs": [],
   "source": [
    "# NSS model calibrate\n",
    "curve_fit, status = calibrate_nss_ols(yield_maturities, yeilds)\n",
    "curve_fit"
   ]
  },
  {
   "cell_type": "code",
   "execution_count": null,
   "metadata": {},
   "outputs": [],
   "source": [
    "vol_surface_long['rate'] = vol_surface_long['maturity'].apply(curve_fit)\n",
    "vol_surface_long"
   ]
  },
  {
   "cell_type": "markdown",
   "metadata": {},
   "source": [
    "# Apply the Models"
   ]
  },
  {
   "cell_type": "code",
   "execution_count": 21,
   "metadata": {},
   "outputs": [],
   "source": [
    "def get_last_trade_price(symbol, date, region):\n",
    "    \"\"\"Get the last trade price. Requires an active IVol account \"\"\"\n",
    "    getMarketData_stocks = ivol.setMethod('/equities/eod/stock-prices')\n",
    "    marketData_stocks = getMarketData_stocks(symbol=symbol, date=date, region=region)\n",
    "    return float(marketData_stocks['close'].iloc[0])"
   ]
  },
  {
   "cell_type": "code",
   "execution_count": 22,
   "metadata": {},
   "outputs": [],
   "source": [
    "def callback(*args):\n",
    "    \"\"\"Function used during the minimization process of the models to show time information\"\"\"\n",
    "    global iteration, start, prev, stat\n",
    "    if iteration == 0:\n",
    "        print('#iterations\\tstep time (s)\\ttotal time (s)')\n",
    "    step = round(time.time() - prev, 3)\n",
    "    total = round(time.time() - start, 3)\n",
    "    print(f'{iteration}\\t\\t{step}\\t\\t{total}')\n",
    "    prev = time.time()\n",
    "    stat.append([iteration, step, total])\n",
    "    iteration += 1"
   ]
  },
  {
   "cell_type": "code",
   "execution_count": 66,
   "metadata": {},
   "outputs": [],
   "source": [
    "# General parameters used in the optimization process\n",
    "method = 'Nelder-Mead'\n",
    "options = {\n",
    "    'maxiter': 1e4,\n",
    "    'disp': True\n",
    "}\n",
    "tolerance = 1e-3\n",
    "\n",
    "# put real data there using the function get_last_trade_price defined above \n",
    "last_trade_price = 100 "
   ]
  },
  {
   "cell_type": "markdown",
   "metadata": {},
   "source": [
    "## Heston Model"
   ]
  },
  {
   "cell_type": "code",
   "execution_count": 63,
   "metadata": {},
   "outputs": [],
   "source": [
    "# Define variables to be used in optimization\n",
    "S0 =    last_trade_price # get_last_trade_price(symbol, last_trade_date)\n",
    "r =     vol_surface_long['rate'].to_numpy('float')\n",
    "K =     vol_surface_long['strike'].to_numpy('float')\n",
    "tau =   vol_surface_long['maturity'].to_numpy('float')\n",
    "P =     vol_surface_long['price'].to_numpy('float')\n",
    "\n",
    "params = {\n",
    "    \"v0\"    : {\"x0\": 0.1,   \"lbub\": [1e-3,  0.1]},\n",
    "    \"kappa\" : {\"x0\": 3,     \"lbub\": [1e-3,  5]},\n",
    "    \"theta\" : {\"x0\": 0.05,  \"lbub\": [1e-3,  0.1]},\n",
    "    \"sigma\" : {\"x0\": 0.3,   \"lbub\": [1e-2,  1]},\n",
    "    \"rho\"   : {\"x0\": -0.8,  \"lbub\": [-1,    0]},\n",
    "    \"lambd\" : {\"x0\": 0.03,  \"lbub\": [-1,    1]},\n",
    "}\n",
    "\n",
    "x0 =    [param[\"x0\"]    for key, param in params.items()]\n",
    "bnds =  [param[\"lbub\"]  for key, param in params.items()]"
   ]
  },
  {
   "cell_type": "code",
   "execution_count": 67,
   "metadata": {},
   "outputs": [
    {
     "name": "stdout",
     "output_type": "stream",
     "text": [
      "#iterations\tstep time (s)\ttotal time (s)\n",
      "0\t\t5.847\t\t5.847\n",
      "1\t\t0.753\t\t6.6\n",
      "2\t\t1.455\t\t8.055\n",
      "3\t\t0.741\t\t8.796\n",
      "4\t\t1.453\t\t10.249\n",
      "5\t\t1.467\t\t11.716\n",
      "6\t\t0.73\t\t12.446\n",
      "7\t\t1.025\t\t13.472\n"
     ]
    },
    {
     "ename": "KeyboardInterrupt",
     "evalue": "",
     "output_type": "error",
     "traceback": [
      "\u001b[0;31m---------------------------------------------------------------------------\u001b[0m",
      "\u001b[0;31mKeyboardInterrupt\u001b[0m                         Traceback (most recent call last)",
      "Cell \u001b[0;32mIn[67], line 16\u001b[0m\n\u001b[1;32m     13\u001b[0m iteration \u001b[38;5;241m=\u001b[39m \u001b[38;5;241m0\u001b[39m\n\u001b[1;32m     14\u001b[0m stat \u001b[38;5;241m=\u001b[39m heston_stat \u001b[38;5;241m=\u001b[39m []\n\u001b[0;32m---> 16\u001b[0m result \u001b[38;5;241m=\u001b[39m \u001b[43mminimize\u001b[49m\u001b[43m(\u001b[49m\u001b[43msquare_error_heston\u001b[49m\u001b[43m,\u001b[49m\u001b[43m \u001b[49m\u001b[43mx0\u001b[49m\u001b[43m,\u001b[49m\u001b[43m \u001b[49m\u001b[43mtol\u001b[49m\u001b[38;5;241;43m=\u001b[39;49m\u001b[43mtolerance\u001b[49m\u001b[43m,\u001b[49m\u001b[43m \u001b[49m\u001b[43mmethod\u001b[49m\u001b[38;5;241;43m=\u001b[39;49m\u001b[43mmethod\u001b[49m\u001b[43m,\u001b[49m\u001b[43m \u001b[49m\u001b[43moptions\u001b[49m\u001b[38;5;241;43m=\u001b[39;49m\u001b[43moptions\u001b[49m\u001b[43m,\u001b[49m\u001b[43m \u001b[49m\u001b[43mbounds\u001b[49m\u001b[38;5;241;43m=\u001b[39;49m\u001b[43mbnds\u001b[49m\u001b[43m,\u001b[49m\u001b[43m \u001b[49m\u001b[43mcallback\u001b[49m\u001b[38;5;241;43m=\u001b[39;49m\u001b[43mcallback\u001b[49m\u001b[43m)\u001b[49m\n",
      "File \u001b[0;32m~/.pyenv/versions/finance/lib/python3.12/site-packages/scipy/optimize/_minimize.py:719\u001b[0m, in \u001b[0;36mminimize\u001b[0;34m(fun, x0, args, method, jac, hess, hessp, bounds, constraints, tol, callback, options)\u001b[0m\n\u001b[1;32m    716\u001b[0m callback \u001b[38;5;241m=\u001b[39m _wrap_callback(callback, meth)\n\u001b[1;32m    718\u001b[0m \u001b[38;5;28;01mif\u001b[39;00m meth \u001b[38;5;241m==\u001b[39m \u001b[38;5;124m'\u001b[39m\u001b[38;5;124mnelder-mead\u001b[39m\u001b[38;5;124m'\u001b[39m:\n\u001b[0;32m--> 719\u001b[0m     res \u001b[38;5;241m=\u001b[39m \u001b[43m_minimize_neldermead\u001b[49m\u001b[43m(\u001b[49m\u001b[43mfun\u001b[49m\u001b[43m,\u001b[49m\u001b[43m \u001b[49m\u001b[43mx0\u001b[49m\u001b[43m,\u001b[49m\u001b[43m \u001b[49m\u001b[43margs\u001b[49m\u001b[43m,\u001b[49m\u001b[43m \u001b[49m\u001b[43mcallback\u001b[49m\u001b[43m,\u001b[49m\u001b[43m \u001b[49m\u001b[43mbounds\u001b[49m\u001b[38;5;241;43m=\u001b[39;49m\u001b[43mbounds\u001b[49m\u001b[43m,\u001b[49m\n\u001b[1;32m    720\u001b[0m \u001b[43m                               \u001b[49m\u001b[38;5;241;43m*\u001b[39;49m\u001b[38;5;241;43m*\u001b[39;49m\u001b[43moptions\u001b[49m\u001b[43m)\u001b[49m\n\u001b[1;32m    721\u001b[0m \u001b[38;5;28;01melif\u001b[39;00m meth \u001b[38;5;241m==\u001b[39m \u001b[38;5;124m'\u001b[39m\u001b[38;5;124mpowell\u001b[39m\u001b[38;5;124m'\u001b[39m:\n\u001b[1;32m    722\u001b[0m     res \u001b[38;5;241m=\u001b[39m _minimize_powell(fun, x0, args, callback, bounds, \u001b[38;5;241m*\u001b[39m\u001b[38;5;241m*\u001b[39moptions)\n",
      "File \u001b[0;32m~/.pyenv/versions/finance/lib/python3.12/site-packages/scipy/optimize/_optimize.py:849\u001b[0m, in \u001b[0;36m_minimize_neldermead\u001b[0;34m(func, x0, args, callback, maxiter, maxfev, disp, return_all, initial_simplex, xatol, fatol, adaptive, bounds, **unknown_options)\u001b[0m\n\u001b[1;32m    846\u001b[0m iterations \u001b[38;5;241m=\u001b[39m \u001b[38;5;241m1\u001b[39m\n\u001b[1;32m    848\u001b[0m \u001b[38;5;28;01mwhile\u001b[39;00m (fcalls[\u001b[38;5;241m0\u001b[39m] \u001b[38;5;241m<\u001b[39m maxfun \u001b[38;5;129;01mand\u001b[39;00m iterations \u001b[38;5;241m<\u001b[39m maxiter):\n\u001b[0;32m--> 849\u001b[0m     \u001b[38;5;28;01mtry\u001b[39;00m:\n\u001b[1;32m    850\u001b[0m         \u001b[38;5;28;01mif\u001b[39;00m (np\u001b[38;5;241m.\u001b[39mmax(np\u001b[38;5;241m.\u001b[39mravel(np\u001b[38;5;241m.\u001b[39mabs(sim[\u001b[38;5;241m1\u001b[39m:] \u001b[38;5;241m-\u001b[39m sim[\u001b[38;5;241m0\u001b[39m]))) \u001b[38;5;241m<\u001b[39m\u001b[38;5;241m=\u001b[39m xatol \u001b[38;5;129;01mand\u001b[39;00m\n\u001b[1;32m    851\u001b[0m                 np\u001b[38;5;241m.\u001b[39mmax(np\u001b[38;5;241m.\u001b[39mabs(fsim[\u001b[38;5;241m0\u001b[39m] \u001b[38;5;241m-\u001b[39m fsim[\u001b[38;5;241m1\u001b[39m:])) \u001b[38;5;241m<\u001b[39m\u001b[38;5;241m=\u001b[39m fatol):\n\u001b[1;32m    852\u001b[0m             \u001b[38;5;28;01mbreak\u001b[39;00m\n",
      "File \u001b[0;32m~/.pyenv/versions/finance/lib/python3.12/site-packages/scipy/optimize/_optimize.py:526\u001b[0m, in \u001b[0;36m_wrap_scalar_function_maxfun_validation.<locals>.function_wrapper\u001b[0;34m(x, *wrapper_args)\u001b[0m\n\u001b[1;32m    524\u001b[0m ncalls[\u001b[38;5;241m0\u001b[39m] \u001b[38;5;241m+\u001b[39m\u001b[38;5;241m=\u001b[39m \u001b[38;5;241m1\u001b[39m\n\u001b[1;32m    525\u001b[0m \u001b[38;5;66;03m# A copy of x is sent to the user function (gh13740)\u001b[39;00m\n\u001b[0;32m--> 526\u001b[0m fx \u001b[38;5;241m=\u001b[39m \u001b[43mfunction\u001b[49m\u001b[43m(\u001b[49m\u001b[43mnp\u001b[49m\u001b[38;5;241;43m.\u001b[39;49m\u001b[43mcopy\u001b[49m\u001b[43m(\u001b[49m\u001b[43mx\u001b[49m\u001b[43m)\u001b[49m\u001b[43m,\u001b[49m\u001b[43m \u001b[49m\u001b[38;5;241;43m*\u001b[39;49m\u001b[43m(\u001b[49m\u001b[43mwrapper_args\u001b[49m\u001b[43m \u001b[49m\u001b[38;5;241;43m+\u001b[39;49m\u001b[43m \u001b[49m\u001b[43margs\u001b[49m\u001b[43m)\u001b[49m\u001b[43m)\u001b[49m\n\u001b[1;32m    527\u001b[0m \u001b[38;5;66;03m# Ideally, we'd like to a have a true scalar returned from f(x). For\u001b[39;00m\n\u001b[1;32m    528\u001b[0m \u001b[38;5;66;03m# backwards-compatibility, also allow np.array([1.3]),\u001b[39;00m\n\u001b[1;32m    529\u001b[0m \u001b[38;5;66;03m# np.array([[1.3]]) etc.\u001b[39;00m\n\u001b[1;32m    530\u001b[0m \u001b[38;5;28;01mif\u001b[39;00m \u001b[38;5;129;01mnot\u001b[39;00m np\u001b[38;5;241m.\u001b[39misscalar(fx):\n",
      "Cell \u001b[0;32mIn[67], line 4\u001b[0m, in \u001b[0;36msquare_error_heston\u001b[0;34m(x)\u001b[0m\n\u001b[1;32m      2\u001b[0m \u001b[38;5;28;01mdef\u001b[39;00m \u001b[38;5;21msquare_error_heston\u001b[39m(x):\n\u001b[1;32m      3\u001b[0m     v0, kappa, theta, sigma, rho, lambd \u001b[38;5;241m=\u001b[39m [param \u001b[38;5;28;01mfor\u001b[39;00m param \u001b[38;5;129;01min\u001b[39;00m x]\n\u001b[0;32m----> 4\u001b[0m     err \u001b[38;5;241m=\u001b[39m np\u001b[38;5;241m.\u001b[39msum( (P \u001b[38;5;241m-\u001b[39m \u001b[43mheston_price_rec\u001b[49m\u001b[43m(\u001b[49m\u001b[43mS0\u001b[49m\u001b[43m,\u001b[49m\u001b[43m \u001b[49m\u001b[43mK\u001b[49m\u001b[43m,\u001b[49m\u001b[43m \u001b[49m\u001b[43mv0\u001b[49m\u001b[43m,\u001b[49m\u001b[43m \u001b[49m\u001b[43mkappa\u001b[49m\u001b[43m,\u001b[49m\u001b[43m \u001b[49m\u001b[43mtheta\u001b[49m\u001b[43m,\u001b[49m\u001b[43m \u001b[49m\u001b[43msigma\u001b[49m\u001b[43m,\u001b[49m\u001b[43m \u001b[49m\u001b[43mrho\u001b[49m\u001b[43m,\u001b[49m\u001b[43m \u001b[49m\u001b[43mlambd\u001b[49m\u001b[43m,\u001b[49m\u001b[43m \u001b[49m\u001b[43mtau\u001b[49m\u001b[43m,\u001b[49m\u001b[43m \u001b[49m\u001b[43mr\u001b[49m\u001b[43m)\u001b[49m)\u001b[38;5;241m*\u001b[39m\u001b[38;5;241m*\u001b[39m\u001b[38;5;241m2\u001b[39m \u001b[38;5;241m/\u001b[39m\u001b[38;5;28mlen\u001b[39m(P) )\n\u001b[1;32m      6\u001b[0m     \u001b[38;5;66;03m# Zero penalty term - no good guesses for parameters\u001b[39;00m\n\u001b[1;32m      7\u001b[0m     pen \u001b[38;5;241m=\u001b[39m \u001b[38;5;241m0\u001b[39m \u001b[38;5;66;03m# np.sum( [(x_i-x0_i)**2 for x_i, x0_i in zip(x, x0)] )\u001b[39;00m\n",
      "Cell \u001b[0;32mIn[62], line 50\u001b[0m, in \u001b[0;36mheston_price_rec\u001b[0;34m(S0, K, v0, kappa, theta, sigma, rho, lambd, tau, r)\u001b[0m\n\u001b[1;32m     47\u001b[0m \u001b[38;5;28;01mfor\u001b[39;00m i \u001b[38;5;129;01min\u001b[39;00m \u001b[38;5;28mrange\u001b[39m(\u001b[38;5;241m1\u001b[39m, N):\n\u001b[1;32m     48\u001b[0m     \u001b[38;5;66;03m# rectangular integration\u001b[39;00m\n\u001b[1;32m     49\u001b[0m     phi \u001b[38;5;241m=\u001b[39m dphi \u001b[38;5;241m*\u001b[39m (\u001b[38;5;241m2\u001b[39m\u001b[38;5;241m*\u001b[39mi \u001b[38;5;241m+\u001b[39m \u001b[38;5;241m1\u001b[39m)\u001b[38;5;241m/\u001b[39m\u001b[38;5;241m2\u001b[39m \u001b[38;5;66;03m# midpoint to calculate height\u001b[39;00m\n\u001b[0;32m---> 50\u001b[0m     numerator \u001b[38;5;241m=\u001b[39m np\u001b[38;5;241m.\u001b[39mexp(r\u001b[38;5;241m*\u001b[39mtau) \u001b[38;5;241m*\u001b[39m \u001b[43mheston_charfunc\u001b[49m\u001b[43m(\u001b[49m\u001b[43mphi\u001b[49m\u001b[38;5;241;43m-\u001b[39;49m\u001b[38;5;241;43m1\u001b[39;49m\u001b[43mj\u001b[49m\u001b[43m,\u001b[49m\u001b[38;5;241;43m*\u001b[39;49m\u001b[43margs\u001b[49m\u001b[43m)\u001b[49m \u001b[38;5;241m-\u001b[39m K \u001b[38;5;241m*\u001b[39m heston_charfunc(phi,\u001b[38;5;241m*\u001b[39margs)\n\u001b[1;32m     51\u001b[0m     denominator \u001b[38;5;241m=\u001b[39m \u001b[38;5;241m1\u001b[39mj\u001b[38;5;241m*\u001b[39mphi\u001b[38;5;241m*\u001b[39mK\u001b[38;5;241m*\u001b[39m\u001b[38;5;241m*\u001b[39m(\u001b[38;5;241m1\u001b[39mj\u001b[38;5;241m*\u001b[39mphi)\n\u001b[1;32m     53\u001b[0m     P \u001b[38;5;241m+\u001b[39m\u001b[38;5;241m=\u001b[39m dphi \u001b[38;5;241m*\u001b[39m numerator\u001b[38;5;241m/\u001b[39mdenominator\n",
      "Cell \u001b[0;32mIn[62], line 29\u001b[0m, in \u001b[0;36mheston_charfunc\u001b[0;34m(phi, S0, v0, kappa, theta, sigma, rho, lambd, tau, r)\u001b[0m\n\u001b[1;32m     27\u001b[0m exp1 \u001b[38;5;241m=\u001b[39m np\u001b[38;5;241m.\u001b[39mexp(r\u001b[38;5;241m*\u001b[39mphi\u001b[38;5;241m*\u001b[39m\u001b[38;5;241m1\u001b[39mj\u001b[38;5;241m*\u001b[39mtau)\n\u001b[1;32m     28\u001b[0m term2 \u001b[38;5;241m=\u001b[39m S0\u001b[38;5;241m*\u001b[39m\u001b[38;5;241m*\u001b[39m(phi\u001b[38;5;241m*\u001b[39m\u001b[38;5;241m1\u001b[39mj) \u001b[38;5;241m*\u001b[39m ( (\u001b[38;5;241m1\u001b[39m\u001b[38;5;241m-\u001b[39mg\u001b[38;5;241m*\u001b[39mnp\u001b[38;5;241m.\u001b[39mexp(d\u001b[38;5;241m*\u001b[39mtau))\u001b[38;5;241m/\u001b[39m(\u001b[38;5;241m1\u001b[39m\u001b[38;5;241m-\u001b[39mg) )\u001b[38;5;241m*\u001b[39m\u001b[38;5;241m*\u001b[39m(\u001b[38;5;241m-\u001b[39m\u001b[38;5;241m2\u001b[39m\u001b[38;5;241m*\u001b[39ma\u001b[38;5;241m/\u001b[39msigma\u001b[38;5;241m*\u001b[39m\u001b[38;5;241m*\u001b[39m\u001b[38;5;241m2\u001b[39m)\n\u001b[0;32m---> 29\u001b[0m exp2 \u001b[38;5;241m=\u001b[39m np\u001b[38;5;241m.\u001b[39mexp(a\u001b[38;5;241m*\u001b[39mtau\u001b[38;5;241m*\u001b[39m(b\u001b[38;5;241m-\u001b[39mrspi\u001b[38;5;241m+\u001b[39md)\u001b[38;5;241m/\u001b[39msigma\u001b[38;5;241m*\u001b[39m\u001b[38;5;241m*\u001b[39m\u001b[38;5;241m2\u001b[39m \u001b[38;5;241m+\u001b[39m v0\u001b[38;5;241m*\u001b[39m(b\u001b[38;5;241m-\u001b[39mrspi\u001b[38;5;241m+\u001b[39md)\u001b[38;5;241m*\u001b[39m( (\u001b[38;5;241m1\u001b[39m\u001b[38;5;241m-\u001b[39mnp\u001b[38;5;241m.\u001b[39mexp(d\u001b[38;5;241m*\u001b[39mtau))\u001b[38;5;241m/\u001b[39m(\u001b[38;5;241m1\u001b[39m\u001b[38;5;241m-\u001b[39mg\u001b[38;5;241m*\u001b[39m\u001b[43mnp\u001b[49m\u001b[38;5;241;43m.\u001b[39;49m\u001b[43mexp\u001b[49m\u001b[43m(\u001b[49m\u001b[43md\u001b[49m\u001b[38;5;241;43m*\u001b[39;49m\u001b[43mtau\u001b[49m\u001b[43m)\u001b[49m) )\u001b[38;5;241m/\u001b[39msigma\u001b[38;5;241m*\u001b[39m\u001b[38;5;241m*\u001b[39m\u001b[38;5;241m2\u001b[39m)\n\u001b[1;32m     31\u001b[0m \u001b[38;5;28;01mreturn\u001b[39;00m exp1 \u001b[38;5;241m*\u001b[39m term2 \u001b[38;5;241m*\u001b[39m exp2\n",
      "\u001b[0;31mKeyboardInterrupt\u001b[0m: "
     ]
    }
   ],
   "source": [
    "# Calibration\n",
    "def square_error_heston(x):\n",
    "    v0, kappa, theta, sigma, rho, lambd = [param for param in x]\n",
    "    err = np.sum( (P - heston_price_rec(S0, K, v0, kappa, theta, sigma, rho, lambd, tau, r))**2 /len(P) )\n",
    "\n",
    "    # Zero penalty term - no good guesses for parameters\n",
    "    pen = 0 # np.sum( [(x_i-x0_i)**2 for x_i, x0_i in zip(x, x0)] )\n",
    "\n",
    "    return err + pen\n",
    "\n",
    "start = time.time()\n",
    "prev = time.time()\n",
    "iteration = 0\n",
    "stat = heston_stat = []\n",
    "\n",
    "result = minimize(square_error_heston, x0, tol=tolerance, method=method, options=options, bounds=bnds, callback=callback)"
   ]
  },
  {
   "cell_type": "code",
   "execution_count": null,
   "metadata": {},
   "outputs": [],
   "source": [
    "v0, kappa, theta, sigma, rho, lambd = [param for param in result.x]\n",
    "print(f\"v0={v0}, kappa={kappa}, theta={theta}, sigma={sigma}, rho={rho}, lambda={lambd}\")"
   ]
  },
  {
   "cell_type": "code",
   "execution_count": null,
   "metadata": {},
   "outputs": [],
   "source": [
    "heston_prices = heston_price_rec(S0, K, v0, kappa, theta, sigma, rho, lambd, tau, r)\n",
    "vol_surface_long['heston_price'] = heston_prices\n",
    "vol_surface_long"
   ]
  },
  {
   "cell_type": "code",
   "execution_count": null,
   "metadata": {},
   "outputs": [],
   "source": [
    "vol_surface_long['heston_difference'] = vol_surface_long['price'] - vol_surface_long['heston_price']\n",
    "vol_surface_long['heston_difference'].describe()"
   ]
  },
  {
   "cell_type": "markdown",
   "metadata": {},
   "source": [
    "## Merton Jump Model"
   ]
  },
  {
   "cell_type": "code",
   "execution_count": 33,
   "metadata": {},
   "outputs": [],
   "source": [
    "S0 =    last_trade_price  # Replace with real market data\n",
    "r =     vol_surface_long['rate'].to_numpy(float)\n",
    "K =     vol_surface_long['strike'].to_numpy(float)\n",
    "tau =   vol_surface_long['maturity'].to_numpy(float)\n",
    "P =     vol_surface_long['price'].to_numpy(float)\n",
    "\n",
    "params = {\n",
    "    \"sigma\"     : {\"x0\": 0.2, \"lbub\": [1e-2, 1]},\n",
    "    \"lambd\"     : {\"x0\": 0.1, \"lbub\": [1e-3, 1]},\n",
    "    \"mu_j\"      : {\"x0\": 0,   \"lbub\": [-1, 1]},\n",
    "    \"sigma_j\"   : {\"x0\": 0.1, \"lbub\": [1e-2, 1]},\n",
    "}\n",
    "\n",
    "x0 =    [param[\"x0\"]    for param in params.values()]\n",
    "bnds =  [param[\"lbub\"]  for param in params.values()]"
   ]
  },
  {
   "cell_type": "code",
   "execution_count": 34,
   "metadata": {},
   "outputs": [],
   "source": [
    "def square_error_merton(x):\n",
    "    sigma, lambd, mu_j, sigma_j = x\n",
    "    return np.sum((P - merton_price_rec(S0, K, sigma, lambd, mu_j, sigma_j, tau, r))**2 / len(P))"
   ]
  },
  {
   "cell_type": "code",
   "execution_count": null,
   "metadata": {},
   "outputs": [],
   "source": [
    "start = time.time()\n",
    "prev = time.time()\n",
    "iteration = 0\n",
    "stat = merton_stat = []\n",
    "\n",
    "result = minimize(square_error_merton, x0, tol=tolerance, bounds=bnds, method=method, options=options, callback=callback)"
   ]
  },
  {
   "cell_type": "code",
   "execution_count": null,
   "metadata": {},
   "outputs": [],
   "source": [
    "sigma, lambd, mu_j, sigma_j = result.x\n",
    "print(f\"Calibrated parameters: sigma={sigma}, lambd={lambd}, mu_j={mu_j}, sigma_j={sigma_j}\")\n",
    "\n",
    "# --- Final Volatility Surface and Comparison ---\n",
    "merton_prices = merton_price_rec(S0, K, sigma, lambd, mu_j, sigma_j, tau, r)\n",
    "vol_surface_long['merton_price'] = merton_prices\n",
    "vol_surface_long['merton_difference'] = vol_surface_long['price'] - vol_surface_long['merton_price']\n",
    "vol_surface_long['merton_difference'].describe()"
   ]
  },
  {
   "cell_type": "code",
   "execution_count": null,
   "metadata": {},
   "outputs": [],
   "source": [
    "vol_surface_long.describe()"
   ]
  },
  {
   "cell_type": "markdown",
   "metadata": {},
   "source": [
    "## Kou Model"
   ]
  },
  {
   "cell_type": "code",
   "execution_count": 39,
   "metadata": {},
   "outputs": [],
   "source": [
    "S0 =    last_trade_price  # Replace with real market data\n",
    "r =     vol_surface_long['rate'].to_numpy(float)\n",
    "K =     vol_surface_long['strike'].to_numpy(float)\n",
    "tau =   vol_surface_long['maturity'].to_numpy(float)\n",
    "P =     vol_surface_long['price'].to_numpy(float)\n",
    "\n",
    "params = {\n",
    "    \"sigma\" : {\"x0\": 0.2,   \"lbub\": [1e-2, 1]},\n",
    "    \"lambd\" : {\"x0\": 0.1,   \"lbub\": [1e-3, 1]},\n",
    "    \"p\"     : {\"x0\": 0.5,   \"lbub\": [0.01, 0.99]},\n",
    "    \"eta1\"  : {\"x0\": 10,    \"lbub\": [1, 20]},\n",
    "    \"eta2\"  : {\"x0\": 10,    \"lbub\": [1, 20]},\n",
    "}\n",
    "\n",
    "x0 =    [param[\"x0\"]    for param in params.values()]\n",
    "bnds =  [param[\"lbub\"]  for param in params.values()]"
   ]
  },
  {
   "cell_type": "code",
   "execution_count": 40,
   "metadata": {},
   "outputs": [],
   "source": [
    "def square_error_kou(x):\n",
    "    sigma, lambd, p, eta1, eta2 = x\n",
    "    return np.sum((P - kou_price_rec(S0, K, sigma, lambd, p, eta1, eta2, tau, r))**2 / len(P))"
   ]
  },
  {
   "cell_type": "code",
   "execution_count": null,
   "metadata": {},
   "outputs": [],
   "source": [
    "iteration = 0\n",
    "start = time.time()\n",
    "prev = time.time()\n",
    "stat = kou_stat = []\n",
    "\n",
    "result = minimize(square_error_kou, x0, tol=tolerance, bounds=bnds, method=method, options=options, callback=callback)"
   ]
  },
  {
   "cell_type": "code",
   "execution_count": null,
   "metadata": {},
   "outputs": [],
   "source": [
    "sigma, lambd, data_path, eta1, eta2 = result.x\n",
    "print(f\"Calibrated parameters: sigma={sigma}, lambd={lambd}, p={data_path}, eta1={eta1}, eta2={eta2}\")\n",
    "\n",
    "# --- Final Volatility Surface and Comparison ---\n",
    "kou_prices = kou_price_rec(S0, K, sigma, lambd, data_path, eta1, eta2, tau, r)\n",
    "vol_surface_long['kou_price'] = kou_prices\n",
    "vol_surface_long['kou_difference'] = vol_surface_long['price'] - vol_surface_long['kou_price']\n",
    "vol_surface_long"
   ]
  },
  {
   "cell_type": "code",
   "execution_count": null,
   "metadata": {},
   "outputs": [],
   "source": [
    "vol_surface_long.describe()"
   ]
  },
  {
   "cell_type": "markdown",
   "metadata": {},
   "source": [
    "## Variance Gamma Model"
   ]
  },
  {
   "cell_type": "code",
   "execution_count": 68,
   "metadata": {},
   "outputs": [],
   "source": [
    "S0 =    last_trade_price  # Replace with real market data\n",
    "r =     vol_surface_long['rate'].to_numpy(float)\n",
    "K =     vol_surface_long['strike'].to_numpy(float)\n",
    "tau =   vol_surface_long['maturity'].to_numpy(float)\n",
    "P =     vol_surface_long['price'].to_numpy(float)\n",
    "\n",
    "params = {\n",
    "    \"sigma\"     : {\"x0\": 0.2, \"lbub\": [1e-2, 1]},\n",
    "    \"nu\"        : {\"x0\": 0.1, \"lbub\": [1e-2, 1]}\n",
    "}\n",
    "\n",
    "x0 =    [param[\"x0\"]    for param in params.values()]\n",
    "bnds =  [param[\"lbub\"]  for param in params.values()]"
   ]
  },
  {
   "cell_type": "code",
   "execution_count": 69,
   "metadata": {},
   "outputs": [],
   "source": [
    "def square_error_vg(x):\n",
    "    sigma, nu = x\n",
    "    return np.sum((P - vg_price_rec(S0, K, theta, sigma, nu, tau, r))**2 / len(P))"
   ]
  },
  {
   "cell_type": "code",
   "execution_count": 70,
   "metadata": {},
   "outputs": [
    {
     "name": "stdout",
     "output_type": "stream",
     "text": [
      "#iterations\tstep time (s)\ttotal time (s)\n",
      "0\t\t1.555\t\t1.556\n",
      "1\t\t0.616\t\t2.172\n",
      "2\t\t0.59\t\t2.762\n",
      "3\t\t0.59\t\t3.352\n",
      "4\t\t0.602\t\t3.954\n",
      "5\t\t0.288\t\t4.243\n",
      "6\t\t0.591\t\t4.834\n",
      "7\t\t0.575\t\t5.41\n",
      "8\t\t0.574\t\t5.984\n",
      "9\t\t0.582\t\t6.566\n",
      "10\t\t0.289\t\t6.855\n",
      "11\t\t0.577\t\t7.432\n",
      "12\t\t0.0\t\t7.432\n",
      "Optimization terminated successfully.\n",
      "         Current function value: 3403.225769\n",
      "         Iterations: 13\n",
      "         Function evaluations: 25\n"
     ]
    }
   ],
   "source": [
    "iteration = 0\n",
    "start = time.time()\n",
    "prev = time.time()\n",
    "stat = vg_stat = []\n",
    "\n",
    "result = minimize(square_error_vg, x0, tol=tolerance, bounds=bnds, method=method, options=options, callback=callback)"
   ]
  },
  {
   "cell_type": "code",
   "execution_count": null,
   "metadata": {},
   "outputs": [],
   "source": [
    "sigma, nu = result.x\n",
    "print(f\"Calibrated parameters: {sigma=}, {nu=}\")\n",
    "\n",
    "# --- Final Volatility Surface and Comparison ---\n",
    "vg_prices = vg_price_rec(S0, K, theta, sigma, nu, tau, r)\n",
    "vol_surface_long['vg_price'] = vg_prices\n",
    "vol_surface_long['vg_difference'] = vol_surface_long['price'] - vol_surface_long['vg_price']\n",
    "vol_surface_long"
   ]
  },
  {
   "cell_type": "code",
   "execution_count": null,
   "metadata": {},
   "outputs": [],
   "source": [
    "vol_surface_long.describe()"
   ]
  },
  {
   "cell_type": "markdown",
   "metadata": {},
   "source": [
    "# Compare the models"
   ]
  },
  {
   "cell_type": "code",
   "execution_count": null,
   "metadata": {},
   "outputs": [],
   "source": [
    "def plot_time_stat(model_name, steps, totals, color):\n",
    "    plt.plot(steps  , '-',  color=color, label=f'{model_name}-step time (s)')\n",
    "    plt.plot(totals , '--', color=color, label=f'{model_name}-cumulative time (s)')\n",
    "    plt.legend()\n",
    "    plt.xlabel('iteration')\n",
    "    plt.ylabel('time (s)')"
   ]
  },
  {
   "cell_type": "code",
   "execution_count": null,
   "metadata": {},
   "outputs": [],
   "source": [
    "import matplotlib.colors as mcolors\n",
    "\n",
    "stats = {\n",
    "    'heston'    : heston_stat,\n",
    "    'merton'    : merton_stat,\n",
    "    'kou'       : kou_stat,\n",
    "    'vg'        : vg_stat\n",
    "}\n",
    "\n",
    "for (model_name, time_stat), color in zip(stats.items(), list(mcolors.TABLEAU_COLORS.keys())[:len(stats)]):\n",
    "    _, steps, cumulatives = zip(*time_stat)\n",
    "    plot_time_stat(model_name, steps, cumulatives, color)"
   ]
  },
  {
   "cell_type": "code",
   "execution_count": null,
   "metadata": {},
   "outputs": [],
   "source": [
    "vol_surface_long[['maturity', 'strike', 'heston_difference', 'merton_difference', 'kou_difference', 'vg_difference']] \\\n",
    "    .plot.line(figsize=(10, 6))"
   ]
  }
 ],
 "metadata": {
  "kernelspec": {
   "display_name": "finance",
   "language": "python",
   "name": "python3"
  },
  "language_info": {
   "codemirror_mode": {
    "name": "ipython",
    "version": 3
   },
   "file_extension": ".py",
   "mimetype": "text/x-python",
   "name": "python",
   "nbconvert_exporter": "python",
   "pygments_lexer": "ipython3",
   "version": "3.12.3"
  }
 },
 "nbformat": 4,
 "nbformat_minor": 2
}
